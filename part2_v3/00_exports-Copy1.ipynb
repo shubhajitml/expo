{
 "cells": [
  {
   "cell_type": "code",
   "execution_count": 10,
   "metadata": {},
   "outputs": [],
   "source": [
    "#export\n",
    "TEST = 'test'"
   ]
  },
  {
   "cell_type": "code",
   "execution_count": 4,
   "metadata": {
    "scrolled": true
   },
   "outputs": [
    {
     "name": "stdout",
     "output_type": "stream",
     "text": [
      "Fire trace:\n",
      "1. Initial component\n",
      "2. ('The function received no value for the required argument:', 'path')\n",
      "\n",
      "Type:        function\n",
      "String form: <function run_notebook at 0x7f5e17f8f158>\n",
      "File:        /media/shubhajit/2G4U/Fastai/FastAILive_v3_18/part2_v3/fastai_docs/dev_course/dl2/run_notebook.py\n",
      "Line:        6\n",
      "\n",
      "Usage:       run_notebook.py PATH\n",
      "             run_notebook.py --path PATH\n"
     ]
    }
   ],
   "source": [
    "!./run_notebook.py"
   ]
  },
  {
   "cell_type": "code",
   "execution_count": 9,
   "metadata": {},
   "outputs": [
    {
     "name": "stdout",
     "output_type": "stream",
     "text": [
      "done\n"
     ]
    }
   ],
   "source": [
    "from run_notebook import *\n",
    "run_notebook('test/00_exports-Copy2.ipynb')"
   ]
  },
  {
   "cell_type": "markdown",
   "metadata": {},
   "source": [
    "## Export"
   ]
  },
  {
   "cell_type": "code",
   "execution_count": null,
   "metadata": {
    "scrolled": false
   },
   "outputs": [
    {
     "name": "stdout",
     "output_type": "stream",
     "text": [
      "Converted 00_exports.ipynb to nb_00.py\r\n"
     ]
    }
   ],
   "source": [
    "!./notebook2script.py 00_exports.ipynb"
   ]
  }
 ],
 "metadata": {
  "kernelspec": {
   "display_name": "Python 3",
   "language": "python",
   "name": "python3"
  },
  "language_info": {
   "codemirror_mode": {
    "name": "ipython",
    "version": 3
   },
   "file_extension": ".py",
   "mimetype": "text/x-python",
   "name": "python",
   "nbconvert_exporter": "python",
   "pygments_lexer": "ipython3",
   "version": "3.6.8"
  }
 },
 "nbformat": 4,
 "nbformat_minor": 2
}
